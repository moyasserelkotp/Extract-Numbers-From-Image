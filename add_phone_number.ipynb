{
 "cells": [
  {
   "cell_type": "code",
   "execution_count": 36,
   "metadata": {},
   "outputs": [],
   "source": [
    "import tkinter as tk\n",
    "from tkinter import filedialog, simpledialog\n",
    "import cv2 # type: ignore\n",
    "import pytesseract # type: ignore\n",
    "import re\n",
    "import datetime\n",
    "import vobject # type: ignore\n",
    "import csv"
   ]
  },
  {
   "cell_type": "code",
   "execution_count": 37,
   "metadata": {},
   "outputs": [],
   "source": [
    "# Set Tesseract path on Windows (not required on Linux)\n",
    "pytesseract.pytesseract.tesseract_cmd = r\"C:\\Program Files\\Tesseract-OCR\\tesseract.exe\""
   ]
  },
  {
   "cell_type": "code",
   "execution_count": 38,
   "metadata": {},
   "outputs": [],
   "source": [
    "# Extract name from the text\n",
    "def extract_name_from_text(text):\n",
    "    # Use OCR to extract the first name from the text\n",
    "    lines = text.split(\"\\n\")\n",
    "    for line in lines:\n",
    "        if line.strip():  # If the line contains text\n",
    "            name = line.strip()\n",
    "            return name\n",
    "    return None"
   ]
  },
  {
   "cell_type": "code",
   "execution_count": 39,
   "metadata": {},
   "outputs": [],
   "source": [
    "# Process the image and extract text\n",
    "def process_image(image_path):\n",
    "    # Load the image\n",
    "    image = cv2.imread(image_path)\n",
    "    \n",
    "    # Convert the image to grayscale to improve text recognition\n",
    "    gray = cv2.cvtColor(image, cv2.COLOR_BGR2GRAY)\n",
    "    \n",
    "    # Use OCR to extract text from the image\n",
    "    extracted_text = pytesseract.image_to_string(gray)\n",
    "    \n",
    "    # Extract phone numbers using regular expressions (RegEx)\n",
    "   # numbers = re.findall(r\"\\+?\\d{10,15}\", extracted_text)  # Looking for phone numbers\n",
    "    numbers = re.findall(r\"(?:\\+?20|420)?(01[0125]\\d{8})\\b\", extracted_text)\n",
    "    \n",
    "    # Ensure there are numbers to extract\n",
    "    if not numbers:\n",
    "        print(\"❌ No phone numbers were found in the image!\")\n",
    "        return\n",
    "    \n",
    "    # Try to extract names from the text (if any)\n",
    "    name = extract_name_from_text(extracted_text)\n",
    "    \n",
    "    if not name:\n",
    "        # If no name is found, ask the user to input a default name\n",
    "        name = simpledialog.askstring(\"Enter Name\", \"No name found in the image. Please enter a default name:\", parent=root)\n",
    "        if not name:\n",
    "            name = \"Default\"  # If no name is entered, use the default name\n",
    "    \n",
    "    # Generate a filename based on the current date and time\n",
    "    timestamp = datetime.datetime.now().strftime(\"%Y%m%d_%H%M%S\")\n",
    "    \n",
    "    # Create the VCF file\n",
    "    vcf_filename = f\"contacts_{timestamp}.vcf\"\n",
    "    with open(vcf_filename, \"w\", encoding=\"utf-8\") as vcf_file:\n",
    "        for i, number in enumerate(numbers, start=1):\n",
    "            contact = vobject.vCard()\n",
    "            contact.add('fn').value = f\"{name} {i}\"  # Assign the name\n",
    "            contact.add('tel').value = number  # Add the phone number\n",
    "            vcf_file.write(contact.serialize())  # Save the contact in the file\n",
    "    \n",
    "    # Create the CSV file\n",
    "    csv_filename = f\"contacts_{timestamp}.csv\"\n",
    "    with open(csv_filename, \"w\", newline='', encoding=\"utf-8\") as csv_file:\n",
    "        writer = csv.writer(csv_file)\n",
    "        writer.writerow([\"Name\", \"Phone Number\", \"Note\"])  # Column headers\n",
    "        for i, number in enumerate(numbers, start=1):\n",
    "            writer.writerow([f\"{name} {i}\", number])  # Write phone numbers\n",
    "    \n",
    "    print(f\"✅ Extracted {len(numbers)} phone numbers and created the files successfully!\")\n",
    "    print(f\"📥 You can now download the files: {vcf_filename}, {csv_filename}\")"
   ]
  },
  {
   "cell_type": "code",
   "execution_count": 40,
   "metadata": {},
   "outputs": [],
   "source": [
    "# Upload image using file dialog\n",
    "def upload_image():\n",
    "    file_path = filedialog.askopenfilename(title=\"Choose an Image\", filetypes=((\"Images\", \"*.jpg;*.jpeg;*.png\"), (\"All files\", \"*.*\")))\n",
    "    if file_path:\n",
    "        process_image(file_path) "
   ]
  },
  {
   "cell_type": "code",
   "execution_count": 41,
   "metadata": {},
   "outputs": [
    {
     "name": "stdout",
     "output_type": "stream",
     "text": [
      "✅ Extracted 109 phone numbers and created the files successfully!\n",
      "📥 You can now download the files: contacts_20250226_151901.vcf, contacts_20250226_151901.csv\n"
     ]
    }
   ],
   "source": [
    "# Animate button color and size for hover effect\n",
    "def on_enter_button(e):\n",
    "    e.widget['background'] = '#45a049'\n",
    "    e.widget['width'] = 18\n",
    "\n",
    "def on_leave_button(e):\n",
    "    e.widget['background'] = '#4CAF50'\n",
    "    e.widget['width'] = 15\n",
    "\n",
    "# Create the GUI\n",
    "def create_gui():\n",
    "    global root\n",
    "    root = tk.Tk()\n",
    "    root.title(\"Image to Contacts Extractor\")\n",
    "    \n",
    "    # Set dark mode theme\n",
    "    root.tk_setPalette(background=\"#333333\")\n",
    "    \n",
    "    # Center the window\n",
    "    screen_width = root.winfo_screenwidth()\n",
    "    screen_height = root.winfo_screenheight()\n",
    "    window_width = 400\n",
    "    window_height = 250\n",
    "    position_top = int(screen_height / 2 - window_height / 2)\n",
    "    position_right = int(screen_width / 2 - window_width / 2)\n",
    "    root.geometry(f'{window_width}x{window_height}+{position_right}+{position_top}')\n",
    "    \n",
    "    # Modern background and rounded corners\n",
    "    root.configure(bg=\"#333333\")\n",
    "    \n",
    "    # Upload image button\n",
    "    upload_button = tk.Button(root, text=\"Upload Image\", command=upload_image, bg=\"#4CAF50\", fg=\"white\", font=(\"Arial\", 14), relief=\"flat\", bd=0)\n",
    "    upload_button.pack(pady=20)\n",
    "    upload_button.bind(\"<Enter>\", on_enter_button)\n",
    "    upload_button.bind(\"<Leave>\", on_leave_button)\n",
    "    \n",
    "    # Exit button\n",
    "    exit_button = tk.Button(root, text=\"Exit\", command=root.quit, bg=\"#f44336\", fg=\"white\", font=(\"Arial\", 14), relief=\"flat\", bd=0)\n",
    "    exit_button.pack(pady=20)\n",
    "    exit_button.bind(\"<Enter>\", on_enter_button)\n",
    "    exit_button.bind(\"<Leave>\", on_leave_button)\n",
    "    \n",
    "    # Add an animated label (you can change the text)\n",
    "    label = tk.Label(root, text=\"Welcome to the Image to Contacts Extractor\", fg=\"white\", font=(\"Arial\", 12), bg=\"#333333\")\n",
    "    label.pack(pady=10)\n",
    "    \n",
    "    animate_label(label, 0)  # Start the animation on label\n",
    "    \n",
    "    root.mainloop()\n",
    "\n",
    "# Animation for the label text\n",
    "def animate_label(label, index):\n",
    "    text = \"Welcome to the Image to Contacts Extractor\"\n",
    "    label.config(text=text[:index])\n",
    "    if index < len(text):\n",
    "        root.after(150, animate_label, label, index + 1)\n",
    "\n",
    "# Run the GUI\n",
    "create_gui()\n"
   ]
  },
  {
   "cell_type": "code",
   "execution_count": null,
   "metadata": {},
   "outputs": [],
   "source": []
  },
  {
   "cell_type": "code",
   "execution_count": null,
   "metadata": {},
   "outputs": [],
   "source": []
  },
  {
   "cell_type": "code",
   "execution_count": null,
   "metadata": {},
   "outputs": [],
   "source": []
  },
  {
   "cell_type": "code",
   "execution_count": null,
   "metadata": {},
   "outputs": [],
   "source": []
  },
  {
   "cell_type": "code",
   "execution_count": null,
   "metadata": {},
   "outputs": [],
   "source": []
  },
  {
   "cell_type": "code",
   "execution_count": 30,
   "metadata": {},
   "outputs": [
    {
     "name": "stdout",
     "output_type": "stream",
     "text": [
      "['01000431458', '01000741823', '01001642453', '01003573538', '01125678912']\n"
     ]
    }
   ],
   "source": [
    "import re\n",
    "\n",
    "# Example extracted text with different number formats\n",
    "extracted_text = \"\"\"\n",
    "    VODAFONE EG 1,201000431458,Created automatically by Python\n",
    "    VODAFONE EG 2,201000741823,Created automatically by Python\n",
    "    VODAFONE EG 3,201001642453,Created automatically by Python\n",
    "    VODAFONE EG 4,4201003573538,Created automatically by Python\n",
    "    VODAFONE EG 5,+201125678912,Created automatically by Python\n",
    "\"\"\"\n",
    "\n",
    "# Regular expression to extract numbers starting with 012, 011, 015, or 010\n",
    "numbers = re.findall(r\"(?:\\+?20|420)?(01[0125]\\d{8})\\b\", extracted_text)\n",
    "\n",
    "print(numbers)  # Expected Output: ['01000431458', '01000741823', '01001642453', '01003573538', '01125678912']\n"
   ]
  },
  {
   "cell_type": "code",
   "execution_count": null,
   "metadata": {},
   "outputs": [],
   "source": []
  }
 ],
 "metadata": {
  "kernelspec": {
   "display_name": "Python 3",
   "language": "python",
   "name": "python3"
  },
  "language_info": {
   "codemirror_mode": {
    "name": "ipython",
    "version": 3
   },
   "file_extension": ".py",
   "mimetype": "text/x-python",
   "name": "python",
   "nbconvert_exporter": "python",
   "pygments_lexer": "ipython3",
   "version": "3.12.2"
  }
 },
 "nbformat": 4,
 "nbformat_minor": 2
}
